{
 "cells": [
  {
   "cell_type": "markdown",
   "id": "e9216b63-c18a-4c9b-beff-4b6b2e1b6964",
   "metadata": {},
   "source": [
    "# BIOS512 Assignment #3"
   ]
  },
  {
   "cell_type": "markdown",
   "id": "4403015e-d27f-473c-8720-088ac6db57c9",
   "metadata": {},
   "source": [
    "Import the 📈Tidyverse into your `R` session"
   ]
  },
  {
   "cell_type": "code",
   "execution_count": 2,
   "id": "2cb997c6-b57c-4198-aa5c-8be897467c7c",
   "metadata": {
    "tags": []
   },
   "outputs": [
    {
     "name": "stderr",
     "output_type": "stream",
     "text": [
      "Warning message:\n",
      "“Failed to locate timezone database”\n",
      "── \u001b[1mAttaching core tidyverse packages\u001b[22m ──────────────────────── tidyverse 2.0.0 ──\n",
      "\u001b[32m✔\u001b[39m \u001b[34mdplyr    \u001b[39m 1.1.3     \u001b[32m✔\u001b[39m \u001b[34mreadr    \u001b[39m 2.1.4\n",
      "\u001b[32m✔\u001b[39m \u001b[34mforcats  \u001b[39m 1.0.0     \u001b[32m✔\u001b[39m \u001b[34mstringr  \u001b[39m 1.5.0\n",
      "\u001b[32m✔\u001b[39m \u001b[34mggplot2  \u001b[39m 3.4.3     \u001b[32m✔\u001b[39m \u001b[34mtibble   \u001b[39m 3.2.1\n",
      "\u001b[32m✔\u001b[39m \u001b[34mlubridate\u001b[39m 1.9.2     \u001b[32m✔\u001b[39m \u001b[34mtidyr    \u001b[39m 1.3.0\n",
      "\u001b[32m✔\u001b[39m \u001b[34mpurrr    \u001b[39m 1.0.2     \n",
      "── \u001b[1mConflicts\u001b[22m ────────────────────────────────────────── tidyverse_conflicts() ──\n",
      "\u001b[31m✖\u001b[39m \u001b[34mdplyr\u001b[39m::\u001b[32mfilter()\u001b[39m masks \u001b[34mstats\u001b[39m::filter()\n",
      "\u001b[31m✖\u001b[39m \u001b[34mdplyr\u001b[39m::\u001b[32mlag()\u001b[39m    masks \u001b[34mstats\u001b[39m::lag()\n",
      "\u001b[36mℹ\u001b[39m Use the conflicted package (\u001b[3m\u001b[34m<http://conflicted.r-lib.org/>\u001b[39m\u001b[23m) to force all conflicts to become errors\n"
     ]
    }
   ],
   "source": [
    "library('tidyverse')"
   ]
  },
  {
   "cell_type": "markdown",
   "id": "47ccf7f6-01c6-46b4-94a1-f8dcd8ef8377",
   "metadata": {},
   "source": [
    "In this assignment we'll be using data from the [TidyTuesday Project](https://github.com/rfordatascience/tidytuesday). Specifically, we'll investigate vaccination rates at US schools. A `CSV` file of the data is located at:  \n",
    "\n",
    "[https://github.com/rfordatascience/tidytuesday/blob/master/data/2020/2020-02-25/measles.csv](https://github.com/rfordatascience/tidytuesday/blob/master/data/2020/2020-02-25/measles.csv)\n",
    "\n",
    "Get the \"raw\" data URL and import it into your `R` session using `read_csv`. Remember to capture the data under a variable name of your choosing!"
   ]
  },
  {
   "cell_type": "code",
   "execution_count": 4,
   "id": "8de37571-29da-4393-b1eb-ca13fcd70fed",
   "metadata": {
    "tags": []
   },
   "outputs": [],
   "source": [
    "datvar <- read_csv('measles.csv', col_types = cols())"
   ]
  },
  {
   "cell_type": "markdown",
   "id": "feb89cec-8cda-457d-95cf-89dbfa932ab4",
   "metadata": {},
   "source": [
    "The `mmr` column has holds 🤒 measles, mumps, rubella 🤒 vaccination rates for students in each respective school. **If the `mmr` value is not available for a school the `mmr` value is set to -1 in this data set.** \n",
    "\n",
    "The target `mmr` vaccination rate as [recommended by the CDC](https://www.cdc.gov/mmwr/preview/mmwrhtml/mm5632a3.htm) for schools is 95%. \n",
    "\n",
    "**Calculate the fraction of schools per state that have vaccination rates greater than the CDC 95%. Capture the output as a table called `df_vacc_rates`.**\n",
    "\n",
    "You'll need to do use `filter`, `group_by`, and `summarize`. \n",
    "\n",
    "I.e.\n",
    "1. Filter out schools that don't report `mmr` vaccination rate (keep schools where `mmr >= 0`).\n",
    "1. Group the data by `state`.\n",
    "1. Summarize fracion of vaccination rates above 95%.\n",
    "\n",
    "💡Remember `n()` stands for the number or records in a group. Also, `sum(mmr >= 95, na.rm=TRUE)` will count the number of values above or equal to 95.💡"
   ]
  },
  {
   "cell_type": "code",
   "execution_count": 8,
   "id": "0ba9a861-00fc-4392-a67d-cddbd5a994e0",
   "metadata": {
    "tags": []
   },
   "outputs": [
    {
     "data": {
      "text/html": [
       "<table class=\"dataframe\">\n",
       "<caption>A tibble: 21 × 2</caption>\n",
       "<thead>\n",
       "\t<tr><th scope=col>state</th><th scope=col>(sum(mmr &gt;= 95, na.rm = TRUE)/n()) * 100</th></tr>\n",
       "\t<tr><th scope=col>&lt;chr&gt;</th><th scope=col>&lt;dbl&gt;</th></tr>\n",
       "</thead>\n",
       "<tbody>\n",
       "\t<tr><td>Arizona      </td><td>50.6404782</td></tr>\n",
       "\t<tr><td>Arkansas     </td><td> 0.3527337</td></tr>\n",
       "\t<tr><td>California   </td><td>88.8506151</td></tr>\n",
       "\t<tr><td>Colorado     </td><td>62.3092236</td></tr>\n",
       "\t<tr><td>Connecticut  </td><td>81.1544992</td></tr>\n",
       "\t<tr><td>Illinois     </td><td>89.6825397</td></tr>\n",
       "\t<tr><td>Maine        </td><td>47.3389356</td></tr>\n",
       "\t<tr><td>Massachusetts</td><td>86.5828092</td></tr>\n",
       "\t<tr><td>Minnesota    </td><td>47.3948525</td></tr>\n",
       "\t<tr><td>Missouri     </td><td>68.0000000</td></tr>\n",
       "\t<tr><td>Montana      </td><td>70.8812261</td></tr>\n",
       "\t<tr><td>New York     </td><td>85.9822073</td></tr>\n",
       "\t<tr><td>North Dakota </td><td>45.5555556</td></tr>\n",
       "\t<tr><td>Ohio         </td><td>49.1606715</td></tr>\n",
       "\t<tr><td>Oregon       </td><td>59.3052109</td></tr>\n",
       "\t<tr><td>Pennsylvania </td><td>83.4966478</td></tr>\n",
       "\t<tr><td>South Dakota </td><td>74.2627346</td></tr>\n",
       "\t<tr><td>Texas        </td><td>62.6387176</td></tr>\n",
       "\t<tr><td>Utah         </td><td>67.9933665</td></tr>\n",
       "\t<tr><td>Vermont      </td><td>68.3431953</td></tr>\n",
       "\t<tr><td>Washington   </td><td>32.6592518</td></tr>\n",
       "</tbody>\n",
       "</table>\n"
      ],
      "text/latex": [
       "A tibble: 21 × 2\n",
       "\\begin{tabular}{ll}\n",
       " state & (sum(mmr >= 95, na.rm = TRUE)/n()) * 100\\\\\n",
       " <chr> & <dbl>\\\\\n",
       "\\hline\n",
       "\t Arizona       & 50.6404782\\\\\n",
       "\t Arkansas      &  0.3527337\\\\\n",
       "\t California    & 88.8506151\\\\\n",
       "\t Colorado      & 62.3092236\\\\\n",
       "\t Connecticut   & 81.1544992\\\\\n",
       "\t Illinois      & 89.6825397\\\\\n",
       "\t Maine         & 47.3389356\\\\\n",
       "\t Massachusetts & 86.5828092\\\\\n",
       "\t Minnesota     & 47.3948525\\\\\n",
       "\t Missouri      & 68.0000000\\\\\n",
       "\t Montana       & 70.8812261\\\\\n",
       "\t New York      & 85.9822073\\\\\n",
       "\t North Dakota  & 45.5555556\\\\\n",
       "\t Ohio          & 49.1606715\\\\\n",
       "\t Oregon        & 59.3052109\\\\\n",
       "\t Pennsylvania  & 83.4966478\\\\\n",
       "\t South Dakota  & 74.2627346\\\\\n",
       "\t Texas         & 62.6387176\\\\\n",
       "\t Utah          & 67.9933665\\\\\n",
       "\t Vermont       & 68.3431953\\\\\n",
       "\t Washington    & 32.6592518\\\\\n",
       "\\end{tabular}\n"
      ],
      "text/markdown": [
       "\n",
       "A tibble: 21 × 2\n",
       "\n",
       "| state &lt;chr&gt; | (sum(mmr &gt;= 95, na.rm = TRUE)/n()) * 100 &lt;dbl&gt; |\n",
       "|---|---|\n",
       "| Arizona       | 50.6404782 |\n",
       "| Arkansas      |  0.3527337 |\n",
       "| California    | 88.8506151 |\n",
       "| Colorado      | 62.3092236 |\n",
       "| Connecticut   | 81.1544992 |\n",
       "| Illinois      | 89.6825397 |\n",
       "| Maine         | 47.3389356 |\n",
       "| Massachusetts | 86.5828092 |\n",
       "| Minnesota     | 47.3948525 |\n",
       "| Missouri      | 68.0000000 |\n",
       "| Montana       | 70.8812261 |\n",
       "| New York      | 85.9822073 |\n",
       "| North Dakota  | 45.5555556 |\n",
       "| Ohio          | 49.1606715 |\n",
       "| Oregon        | 59.3052109 |\n",
       "| Pennsylvania  | 83.4966478 |\n",
       "| South Dakota  | 74.2627346 |\n",
       "| Texas         | 62.6387176 |\n",
       "| Utah          | 67.9933665 |\n",
       "| Vermont       | 68.3431953 |\n",
       "| Washington    | 32.6592518 |\n",
       "\n"
      ],
      "text/plain": [
       "   state         (sum(mmr >= 95, na.rm = TRUE)/n()) * 100\n",
       "1  Arizona       50.6404782                              \n",
       "2  Arkansas       0.3527337                              \n",
       "3  California    88.8506151                              \n",
       "4  Colorado      62.3092236                              \n",
       "5  Connecticut   81.1544992                              \n",
       "6  Illinois      89.6825397                              \n",
       "7  Maine         47.3389356                              \n",
       "8  Massachusetts 86.5828092                              \n",
       "9  Minnesota     47.3948525                              \n",
       "10 Missouri      68.0000000                              \n",
       "11 Montana       70.8812261                              \n",
       "12 New York      85.9822073                              \n",
       "13 North Dakota  45.5555556                              \n",
       "14 Ohio          49.1606715                              \n",
       "15 Oregon        59.3052109                              \n",
       "16 Pennsylvania  83.4966478                              \n",
       "17 South Dakota  74.2627346                              \n",
       "18 Texas         62.6387176                              \n",
       "19 Utah          67.9933665                              \n",
       "20 Vermont       68.3431953                              \n",
       "21 Washington    32.6592518                              "
      ]
     },
     "metadata": {},
     "output_type": "display_data"
    }
   ],
   "source": [
    "# create the df_vacc_rates here\n",
    "\n",
    "df_vacc_rates <- datvar |>\n",
    "filter(mmr >= 0) |>\n",
    "group_by(state) |>\n",
    "summarize((sum(mmr >= 95, na.rm=TRUE)/ n())*100)\n",
    "\n",
    "df_vacc_rates"
   ]
  },
  {
   "cell_type": "markdown",
   "id": "900ddf7f-d801-4a70-9453-73bdd3277344",
   "metadata": {},
   "source": [
    "Which state (of those that report `mmr`) has the smallest fraction of schools above the CDC target vaccination rate of 95%?  "
   ]
  },
  {
   "cell_type": "code",
   "execution_count": null,
   "id": "13812611-a534-46c2-aae6-0f6c645273e0",
   "metadata": {},
   "outputs": [],
   "source": [
    "Arkansas"
   ]
  },
  {
   "cell_type": "markdown",
   "id": "2866ca03-1f87-466e-ab0a-dd69140496e6",
   "metadata": {},
   "source": [
    "**Make a ECDF plot of the school vaccination rates in North Carolina.** Use the `overall` column which reports the \"overall\" vaccination rate at each school.\n",
    "\n",
    "❗️Remember, you can calculate the `y` value for ECDF charts using `row_number`, `mutate`, and `arrange`."
   ]
  },
  {
   "cell_type": "code",
   "execution_count": 5,
   "id": "478c5949-b5cb-4a4c-9915-6201427248c1",
   "metadata": {},
   "outputs": [
    {
     "data": {
      "image/png": "[encoded data removed]",
      "text/plain": [
       "plot without title"
      ]
     },
     "metadata": {
      "image/png": {
       "height": 420,
       "width": 420
      }
     },
     "output_type": "display_data"
    }
   ],
   "source": [
    "nc_counties <- datvar[datvar$state == 'North Carolina', ]\n",
    "ggplot(nc_counties, aes(x = overall)) +\n",
    "  stat_ecdf(geom = \"step\") +\n",
    "  labs(title = \"ECDF of Vaccination Rates in NC Counties\", x = \"Vaccination Rates\", y = \"ECDF\")"
   ]
  },
  {
   "cell_type": "markdown",
   "id": "8f5ea83f-c904-46ee-9f52-af1bd1afbc96",
   "metadata": {},
   "source": [
    "(My solution is below if you want to peek 👀. Uncomment the code, change the cell to `markdown`, and exectute it.)"
   ]
  },
  {
   "cell_type": "markdown",
   "id": "69adc956-da5a-4cae-bb8c-ce083d175b29",
   "metadata": {},
   "source": [
    "![](https://github.com/chuckpr/BIOS512/blob/main/assignments/measles-chart.png?raw=true)"
   ]
  },
  {
   "cell_type": "markdown",
   "id": "d2041941-dcee-42e8-957f-a725dc36388f",
   "metadata": {},
   "source": [
    "Is the median vaccination rate for NC schools above the CDC recommended target?"
   ]
  },
  {
   "cell_type": "code",
   "execution_count": null,
   "id": "be2ea536-f8ed-486d-b6e3-9853ac2b01d0",
   "metadata": {},
   "outputs": [],
   "source": []
  }
 ],
 "metadata": {
  "kernelspec": {
   "display_name": "bios512:R",
   "language": "R",
   "name": "conda-env-bios512-r"
  },
  "language_info": {
   "codemirror_mode": "r",
   "file_extension": ".r",
   "mimetype": "text/x-r-source",
   "name": "R",
   "pygments_lexer": "r",
   "version": "4.3.1"
  }
 },
 "nbformat": 4,
 "nbformat_minor": 5
}
